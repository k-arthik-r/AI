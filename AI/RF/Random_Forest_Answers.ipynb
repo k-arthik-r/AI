{
  "nbformat": 4,
  "nbformat_minor": 0,
  "metadata": {
    "colab": {
      "provenance": []
    },
    "kernelspec": {
      "name": "python3",
      "display_name": "Python 3"
    },
    "language_info": {
      "name": "python"
    }
  },
  "cells": [
    {
      "cell_type": "code",
      "execution_count": 1,
      "metadata": {
        "id": "3V7EsEaRyeJ8"
      },
      "outputs": [],
      "source": [
        "import joblib\n",
        "import pandas as pd\n"
      ]
    },
    {
      "cell_type": "code",
      "source": [
        "model = joblib.load('disease_prediction_model.joblib')\n",
        "le_results = joblib.load('label_encoder_results.joblib')"
      ],
      "metadata": {
        "id": "pF6lMrliyhGT"
      },
      "execution_count": 9,
      "outputs": []
    },
    {
      "cell_type": "code",
      "source": [
        "age = input(\"Enter Your Age: \")\n",
        "q1 = input(\"Question 1: \")\n",
        "q2 = input(\"Question 2: \")\n",
        "q3 = input(\"Question 3: \")\n",
        "q4 = input(\"Question 4: \")\n",
        "q5 = input(\"Question 5: \")\n",
        "q6 = input(\"Question 6: \")\n",
        "q7 = input(\"Question 7: \")\n",
        "q8 = input(\"Question 8: \")\n",
        "q9 = input(\"Question 9: \")\n",
        "q10 = input(\"Question 10: \")"
      ],
      "metadata": {
        "colab": {
          "base_uri": "https://localhost:8080/"
        },
        "id": "B1mFSYviy_Ff",
        "outputId": "00796cca-5316-4569-8b58-0935e6e78ca1"
      },
      "execution_count": 16,
      "outputs": [
        {
          "name": "stdout",
          "output_type": "stream",
          "text": [
            "Enter Your Age: 20\n",
            "Question 1: a\n",
            "Question 2: a\n",
            "Question 3: a\n",
            "Question 4: a\n",
            "Question 5: a\n",
            "Question 6: a\n",
            "Question 7: a\n",
            "Question 8: a\n",
            "Question 9: a\n",
            "Question 10: a\n"
          ]
        }
      ]
    },
    {
      "cell_type": "code",
      "source": [
        "\n",
        "input_data = {\n",
        "    'age': age,\n",
        "    'Your friend has invited you to a party. Consider how you might respond in the given scenario. Choose the option that best reflects your feelings and tendencies': q1,\n",
        "    'You have an upcoming deadline at work. How do you typically handle this': q2,\n",
        "    'You receive unexpected praise for your achievements. How do you react?': q3,\n",
        "    'You witness a car accident on the street. How does it affect you?': q4,\n",
        "    'You are preparing for a social event with friends. How do you approach it?': q5,\n",
        "    'You find yourself in a crowded and noisy environment. How do you react?': q6,\n",
        "    'You encounter a trigger related to a past traumatic event. How do you cope?': q7,\n",
        "    'You are faced with a decision that requires careful consideration. How do you approach it?': q8,\n",
        "    'You are experiencing a period of heightened creativity and productivity. How does it impact you?': q9,\n",
        "    'You are in a situation where you feel judged by others. How do you react?': q10\n",
        "}\n"
      ],
      "metadata": {
        "id": "GhC7OXtPyobD"
      },
      "execution_count": 17,
      "outputs": []
    },
    {
      "cell_type": "code",
      "source": [
        "\n",
        "answer_mapping = {'a': 1, 'b': 2, 'c': 3, 'd': 4, 'e': 5, 'f': 6, 'g': 7}\n",
        "\n",
        "\n",
        "for mcq, answer in input_data.items():\n",
        "    if mcq != 'age':\n",
        "        input_data[mcq] = answer_mapping.get(answer, 0)\n",
        "\n"
      ],
      "metadata": {
        "id": "q54L0GSyyszI"
      },
      "execution_count": 18,
      "outputs": []
    },
    {
      "cell_type": "code",
      "source": [
        "input_df = pd.DataFrame([input_data])\n",
        "\n",
        "predictions = model.predict(input_df.iloc[:, 1:])"
      ],
      "metadata": {
        "id": "civhlXj7y1gL"
      },
      "execution_count": 19,
      "outputs": []
    },
    {
      "cell_type": "code",
      "source": [
        "predictions_decoded = le_results.inverse_transform(predictions)\n"
      ],
      "metadata": {
        "id": "sIOUc8IXyw15"
      },
      "execution_count": 20,
      "outputs": []
    },
    {
      "cell_type": "code",
      "source": [
        "print(f'Predicted Disease: {predictions_decoded[0]}')"
      ],
      "metadata": {
        "colab": {
          "base_uri": "https://localhost:8080/"
        },
        "id": "TMU8HO_Uy6uQ",
        "outputId": "ff8f0e5c-4885-453f-edfd-6864035d92a8"
      },
      "execution_count": 21,
      "outputs": [
        {
          "output_type": "stream",
          "name": "stdout",
          "text": [
            "Predicted Disease: Anxiety Disorders\n"
          ]
        }
      ]
    }
  ]
}